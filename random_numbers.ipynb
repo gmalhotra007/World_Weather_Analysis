{
 "cells": [
  {
   "cell_type": "code",
   "execution_count": 23,
   "metadata": {},
   "outputs": [],
   "source": [
    "#import the NumPy module\n",
    "import numpy as np"
   ]
  },
  {
   "cell_type": "code",
   "execution_count": 25,
   "metadata": {},
   "outputs": [
    {
     "data": {
      "text/plain": [
       "-74.0105577087027"
      ]
     },
     "execution_count": 25,
     "metadata": {},
     "output_type": "execute_result"
    }
   ],
   "source": [
    "np.random.uniform(-90,90)"
   ]
  },
  {
   "cell_type": "code",
   "execution_count": 26,
   "metadata": {},
   "outputs": [
    {
     "data": {
      "text/plain": [
       "array([-57.04818495,  87.70127409,  44.9765399 ,  25.44117301,\n",
       "        12.04680869,  61.12983098,  10.43107003,  89.25930468,\n",
       "        19.17457832, -15.41707927, -37.02763839,  52.53161412,\n",
       "        61.24726039, -10.59579421, -80.33323682,  75.32375161,\n",
       "       -60.03112387,  59.57869168,  74.86804755, -17.66473698,\n",
       "        19.26517536, -24.74020717,  49.75948596, -30.38527941,\n",
       "       -74.33334041,  36.40730707,  62.15881518, -62.08919021,\n",
       "        29.29178047,  55.70200147,  74.18860818,  37.68583373,\n",
       "        25.46479334,  51.36195804, -38.02727147, -56.76150564,\n",
       "       -54.15845966, -20.73299184, -48.87258264, -42.21398903,\n",
       "       -18.24165404,  63.22479248,  31.88186791,  79.33681208,\n",
       "        79.2274695 , -15.67910382,   6.55295095, -83.20500404,\n",
       "        73.84743401,  79.34419523])"
      ]
     },
     "execution_count": 26,
     "metadata": {},
     "output_type": "execute_result"
    }
   ],
   "source": [
    "np.random.uniform(-90,90,size=50)"
   ]
  },
  {
   "cell_type": "code",
   "execution_count": 27,
   "metadata": {},
   "outputs": [],
   "source": [
    "#import timeit\n",
    "import timeit"
   ]
  },
  {
   "cell_type": "code",
   "execution_count": 30,
   "metadata": {},
   "outputs": [
    {
     "name": "stdout",
     "output_type": "stream",
     "text": [
      "18.8 µs ± 246 ns per loop (mean ± std. dev. of 7 runs, 100000 loops each)\n"
     ]
    }
   ],
   "source": [
    "%timeit np.random.uniform(-90,90,size=1500)"
   ]
  },
  {
   "cell_type": "code",
   "execution_count": null,
   "metadata": {},
   "outputs": [],
   "source": []
  }
 ],
 "metadata": {
  "kernelspec": {
   "display_name": "PythonData",
   "language": "python",
   "name": "pythondata"
  },
  "language_info": {
   "codemirror_mode": {
    "name": "ipython",
    "version": 3
   },
   "file_extension": ".py",
   "mimetype": "text/x-python",
   "name": "python",
   "nbconvert_exporter": "python",
   "pygments_lexer": "ipython3",
   "version": "3.7.7"
  }
 },
 "nbformat": 4,
 "nbformat_minor": 4
}
